{
 "cells": [
  {
   "cell_type": "markdown",
   "id": "44c853b4",
   "metadata": {},
   "source": [
    "# A/B test for an Ad agency"
   ]
  },
  {
   "cell_type": "markdown",
   "id": "2025cddd",
   "metadata": {},
   "source": [
    "This report analyzes the data collected from an 1-week AB test experiment for an Ad angency."
   ]
  },
  {
   "cell_type": "markdown",
   "id": "0e23f45e",
   "metadata": {},
   "source": [
    "## Load raw data"
   ]
  },
  {
   "cell_type": "code",
   "execution_count": 2,
   "id": "157e7a4b",
   "metadata": {},
   "outputs": [],
   "source": [
    "import pandas as pd\n",
    "import matplotlib.pyplot as plt"
   ]
  },
  {
   "cell_type": "code",
   "execution_count": 3,
   "id": "afbacdaf",
   "metadata": {},
   "outputs": [],
   "source": [
    "df=pd.read_csv('AdSmartABdata - AdSmartABdata.csv')"
   ]
  },
  {
   "cell_type": "code",
   "execution_count": 4,
   "id": "5b2e5377",
   "metadata": {},
   "outputs": [
    {
     "data": {
      "text/html": [
       "<div>\n",
       "<style scoped>\n",
       "    .dataframe tbody tr th:only-of-type {\n",
       "        vertical-align: middle;\n",
       "    }\n",
       "\n",
       "    .dataframe tbody tr th {\n",
       "        vertical-align: top;\n",
       "    }\n",
       "\n",
       "    .dataframe thead th {\n",
       "        text-align: right;\n",
       "    }\n",
       "</style>\n",
       "<table border=\"1\" class=\"dataframe\">\n",
       "  <thead>\n",
       "    <tr style=\"text-align: right;\">\n",
       "      <th></th>\n",
       "      <th>auction_id</th>\n",
       "      <th>experiment</th>\n",
       "      <th>date</th>\n",
       "      <th>hour</th>\n",
       "      <th>device_make</th>\n",
       "      <th>platform_os</th>\n",
       "      <th>browser</th>\n",
       "      <th>yes</th>\n",
       "      <th>no</th>\n",
       "    </tr>\n",
       "  </thead>\n",
       "  <tbody>\n",
       "    <tr>\n",
       "      <th>0</th>\n",
       "      <td>0008ef63-77a7-448b-bd1e-075f42c55e39</td>\n",
       "      <td>exposed</td>\n",
       "      <td>2020-07-10</td>\n",
       "      <td>8</td>\n",
       "      <td>Generic Smartphone</td>\n",
       "      <td>6</td>\n",
       "      <td>Chrome Mobile</td>\n",
       "      <td>0</td>\n",
       "      <td>0</td>\n",
       "    </tr>\n",
       "    <tr>\n",
       "      <th>1</th>\n",
       "      <td>000eabc5-17ce-4137-8efe-44734d914446</td>\n",
       "      <td>exposed</td>\n",
       "      <td>2020-07-07</td>\n",
       "      <td>10</td>\n",
       "      <td>Generic Smartphone</td>\n",
       "      <td>6</td>\n",
       "      <td>Chrome Mobile</td>\n",
       "      <td>0</td>\n",
       "      <td>0</td>\n",
       "    </tr>\n",
       "    <tr>\n",
       "      <th>2</th>\n",
       "      <td>0016d14a-ae18-4a02-a204-6ba53b52f2ed</td>\n",
       "      <td>exposed</td>\n",
       "      <td>2020-07-05</td>\n",
       "      <td>2</td>\n",
       "      <td>E5823</td>\n",
       "      <td>6</td>\n",
       "      <td>Chrome Mobile WebView</td>\n",
       "      <td>0</td>\n",
       "      <td>1</td>\n",
       "    </tr>\n",
       "    <tr>\n",
       "      <th>3</th>\n",
       "      <td>00187412-2932-4542-a8ef-3633901c98d9</td>\n",
       "      <td>control</td>\n",
       "      <td>2020-07-03</td>\n",
       "      <td>15</td>\n",
       "      <td>Samsung SM-A705FN</td>\n",
       "      <td>6</td>\n",
       "      <td>Facebook</td>\n",
       "      <td>0</td>\n",
       "      <td>0</td>\n",
       "    </tr>\n",
       "    <tr>\n",
       "      <th>4</th>\n",
       "      <td>001a7785-d3fe-4e11-a344-c8735acacc2c</td>\n",
       "      <td>control</td>\n",
       "      <td>2020-07-03</td>\n",
       "      <td>15</td>\n",
       "      <td>Generic Smartphone</td>\n",
       "      <td>6</td>\n",
       "      <td>Chrome Mobile</td>\n",
       "      <td>0</td>\n",
       "      <td>0</td>\n",
       "    </tr>\n",
       "  </tbody>\n",
       "</table>\n",
       "</div>"
      ],
      "text/plain": [
       "                             auction_id experiment        date  hour  \\\n",
       "0  0008ef63-77a7-448b-bd1e-075f42c55e39    exposed  2020-07-10     8   \n",
       "1  000eabc5-17ce-4137-8efe-44734d914446    exposed  2020-07-07    10   \n",
       "2  0016d14a-ae18-4a02-a204-6ba53b52f2ed    exposed  2020-07-05     2   \n",
       "3  00187412-2932-4542-a8ef-3633901c98d9    control  2020-07-03    15   \n",
       "4  001a7785-d3fe-4e11-a344-c8735acacc2c    control  2020-07-03    15   \n",
       "\n",
       "          device_make  platform_os                browser  yes  no  \n",
       "0  Generic Smartphone            6          Chrome Mobile    0   0  \n",
       "1  Generic Smartphone            6          Chrome Mobile    0   0  \n",
       "2               E5823            6  Chrome Mobile WebView    0   1  \n",
       "3   Samsung SM-A705FN            6               Facebook    0   0  \n",
       "4  Generic Smartphone            6          Chrome Mobile    0   0  "
      ]
     },
     "execution_count": 4,
     "metadata": {},
     "output_type": "execute_result"
    }
   ],
   "source": [
    "df.head()"
   ]
  },
  {
   "cell_type": "markdown",
   "id": "bc84b7e7",
   "metadata": {},
   "source": [
    "Add a new colume as 'response'."
   ]
  },
  {
   "cell_type": "code",
   "execution_count": 5,
   "id": "0219de91",
   "metadata": {},
   "outputs": [],
   "source": [
    "df['response']=df['yes']+df['no']"
   ]
  },
  {
   "cell_type": "code",
   "execution_count": 6,
   "id": "95299803",
   "metadata": {},
   "outputs": [
    {
     "data": {
      "text/plain": [
       "0    6834\n",
       "1    1243\n",
       "Name: response, dtype: int64"
      ]
     },
     "execution_count": 6,
     "metadata": {},
     "output_type": "execute_result"
    }
   ],
   "source": [
    "df['response'].value_counts()"
   ]
  },
  {
   "cell_type": "code",
   "execution_count": 7,
   "id": "38d697f5",
   "metadata": {},
   "outputs": [
    {
     "name": "stdout",
     "output_type": "stream",
     "text": [
      "<class 'pandas.core.frame.DataFrame'>\n",
      "RangeIndex: 8077 entries, 0 to 8076\n",
      "Data columns (total 10 columns):\n",
      " #   Column       Non-Null Count  Dtype \n",
      "---  ------       --------------  ----- \n",
      " 0   auction_id   8077 non-null   object\n",
      " 1   experiment   8077 non-null   object\n",
      " 2   date         8077 non-null   object\n",
      " 3   hour         8077 non-null   int64 \n",
      " 4   device_make  8077 non-null   object\n",
      " 5   platform_os  8077 non-null   int64 \n",
      " 6   browser      8077 non-null   object\n",
      " 7   yes          8077 non-null   int64 \n",
      " 8   no           8077 non-null   int64 \n",
      " 9   response     8077 non-null   int64 \n",
      "dtypes: int64(5), object(5)\n",
      "memory usage: 631.1+ KB\n"
     ]
    }
   ],
   "source": [
    "df.info()"
   ]
  },
  {
   "cell_type": "code",
   "execution_count": 8,
   "id": "0c4805f2",
   "metadata": {},
   "outputs": [
    {
     "data": {
      "text/plain": [
       "(8077, 10)"
      ]
     },
     "execution_count": 8,
     "metadata": {},
     "output_type": "execute_result"
    }
   ],
   "source": [
    "df.shape"
   ]
  },
  {
   "cell_type": "code",
   "execution_count": 9,
   "id": "6b3f56f0",
   "metadata": {},
   "outputs": [],
   "source": [
    "df.to_csv('ad_data.csv')"
   ]
  },
  {
   "cell_type": "code",
   "execution_count": 10,
   "id": "95c7f016",
   "metadata": {},
   "outputs": [
    {
     "data": {
      "text/plain": [
       "15"
      ]
     },
     "execution_count": 10,
     "metadata": {},
     "output_type": "execute_result"
    }
   ],
   "source": [
    "len(df['browser'].unique())"
   ]
  },
  {
   "cell_type": "code",
   "execution_count": 11,
   "id": "527a68ff",
   "metadata": {},
   "outputs": [
    {
     "data": {
      "text/plain": [
       "8077"
      ]
     },
     "execution_count": 11,
     "metadata": {},
     "output_type": "execute_result"
    }
   ],
   "source": [
    "len(df['auction_id'].unique())"
   ]
  },
  {
   "cell_type": "markdown",
   "id": "505e32e9",
   "metadata": {},
   "source": [
    "### Data wrangling"
   ]
  },
  {
   "cell_type": "code",
   "execution_count": 12,
   "id": "46e3c542",
   "metadata": {},
   "outputs": [
    {
     "data": {
      "image/png": "[encoded data removed]",
      "text/plain": [
       "<Figure size 720x720 with 6 Axes>"
      ]
     },
     "metadata": {
      "needs_background": "light"
     },
     "output_type": "display_data"
    }
   ],
   "source": [
    "df.hist(grid=False,figsize=(10,10))\n",
    "plt.show()"
   ]
  },
  {
   "cell_type": "markdown",
   "id": "46aaa071",
   "metadata": {},
   "source": [
    "From the graph above, we can see that there is no outliers in the numerical column."
   ]
  },
  {
   "cell_type": "code",
   "execution_count": 13,
   "id": "656c476f",
   "metadata": {},
   "outputs": [
    {
     "data": {
      "text/plain": [
       "control    4071\n",
       "exposed    4006\n",
       "Name: experiment, dtype: int64"
      ]
     },
     "execution_count": 13,
     "metadata": {},
     "output_type": "execute_result"
    }
   ],
   "source": [
    "df['experiment'].value_counts()"
   ]
  },
  {
   "cell_type": "code",
   "execution_count": 14,
   "id": "07ab45e9",
   "metadata": {},
   "outputs": [
    {
     "data": {
      "text/plain": [
       "0    7505\n",
       "1     572\n",
       "Name: yes, dtype: int64"
      ]
     },
     "execution_count": 14,
     "metadata": {},
     "output_type": "execute_result"
    }
   ],
   "source": [
    "df['yes'].value_counts()"
   ]
  },
  {
   "cell_type": "code",
   "execution_count": 15,
   "id": "b0cab3c3",
   "metadata": {},
   "outputs": [
    {
     "data": {
      "text/plain": [
       "0    7406\n",
       "1     671\n",
       "Name: no, dtype: int64"
      ]
     },
     "execution_count": 15,
     "metadata": {},
     "output_type": "execute_result"
    }
   ],
   "source": [
    "df['no'].value_counts()"
   ]
  },
  {
   "cell_type": "markdown",
   "id": "9ac988f8",
   "metadata": {},
   "source": [
    "There is no outliers in the experiment, yes and no columns."
   ]
  },
  {
   "cell_type": "code",
   "execution_count": 16,
   "id": "55bfb784",
   "metadata": {},
   "outputs": [
    {
     "data": {
      "text/plain": [
       "'2020-07-10'"
      ]
     },
     "execution_count": 16,
     "metadata": {},
     "output_type": "execute_result"
    }
   ],
   "source": [
    "df['date'].max()"
   ]
  },
  {
   "cell_type": "code",
   "execution_count": 17,
   "id": "8fb1a05f",
   "metadata": {},
   "outputs": [
    {
     "data": {
      "text/plain": [
       "'2020-07-03'"
      ]
     },
     "execution_count": 17,
     "metadata": {},
     "output_type": "execute_result"
    }
   ],
   "source": [
    "df['date'].min()"
   ]
  },
  {
   "cell_type": "markdown",
   "id": "ae94e22b",
   "metadata": {},
   "source": [
    "The time range for this experiment is from 2020-07-03 to 2020-07-10."
   ]
  },
  {
   "cell_type": "markdown",
   "id": "fc54f393",
   "metadata": {},
   "source": [
    "## Define metrics"
   ]
  },
  {
   "cell_type": "markdown",
   "id": "588315a2",
   "metadata": {},
   "source": [
    "1.Response Rate = the number of respones/total impressions.<br>2.Positive Response Rate = the number of positive responses/total impressions</br>3. Postive Response Ratio = Positive responses/The total responses"
   ]
  },
  {
   "cell_type": "markdown",
   "id": "d3647c4c",
   "metadata": {},
   "source": [
    "These are business metrics."
   ]
  },
  {
   "cell_type": "markdown",
   "id": "308b12ef",
   "metadata": {},
   "source": [
    "## Calculated Metrics"
   ]
  },
  {
   "cell_type": "markdown",
   "id": "14e45c54",
   "metadata": {},
   "source": [
    "<strong>The positive respones in two groups:</strong>"
   ]
  },
  {
   "cell_type": "code",
   "execution_count": 18,
   "id": "117a2a68",
   "metadata": {},
   "outputs": [
    {
     "data": {
      "text/plain": [
       "experiment\n",
       "control    264\n",
       "exposed    308\n",
       "Name: yes, dtype: int64"
      ]
     },
     "execution_count": 18,
     "metadata": {},
     "output_type": "execute_result"
    }
   ],
   "source": [
    "df.groupby('experiment')['yes'].sum()"
   ]
  },
  {
   "cell_type": "markdown",
   "id": "cc124d7b",
   "metadata": {},
   "source": [
    "<strong>The negative responses in two groups:</strong>"
   ]
  },
  {
   "cell_type": "code",
   "execution_count": 19,
   "id": "86013467",
   "metadata": {},
   "outputs": [
    {
     "data": {
      "text/plain": [
       "experiment\n",
       "control    322\n",
       "exposed    349\n",
       "Name: no, dtype: int64"
      ]
     },
     "execution_count": 19,
     "metadata": {},
     "output_type": "execute_result"
    }
   ],
   "source": [
    "df.groupby('experiment')['no'].sum()"
   ]
  },
  {
   "cell_type": "markdown",
   "id": "54679303",
   "metadata": {},
   "source": [
    "<strong>Response Rate in control group:</strong>"
   ]
  },
  {
   "cell_type": "code",
   "execution_count": 20,
   "id": "1bdc7496",
   "metadata": {},
   "outputs": [
    {
     "data": {
      "text/plain": [
       "0.1439"
      ]
     },
     "execution_count": 20,
     "metadata": {},
     "output_type": "execute_result"
    }
   ],
   "source": [
    "rrc=round((264+322)/4071,4)\n",
    "rrc"
   ]
  },
  {
   "cell_type": "markdown",
   "id": "2fb3665d",
   "metadata": {},
   "source": [
    "<strong>Postive Response Rate in control group:</strong>"
   ]
  },
  {
   "cell_type": "code",
   "execution_count": 21,
   "id": "2e7058ef",
   "metadata": {},
   "outputs": [
    {
     "data": {
      "text/plain": [
       "0.0648"
      ]
     },
     "execution_count": 21,
     "metadata": {},
     "output_type": "execute_result"
    }
   ],
   "source": [
    "prrc=round(264/4071,4)\n",
    "prrc"
   ]
  },
  {
   "cell_type": "markdown",
   "id": "b740099b",
   "metadata": {},
   "source": [
    "<strong>Positive Response Ratio in control group: </strong>"
   ]
  },
  {
   "cell_type": "code",
   "execution_count": 22,
   "id": "0912925f",
   "metadata": {},
   "outputs": [
    {
     "data": {
      "text/plain": [
       "0.45051194539249145"
      ]
     },
     "execution_count": 22,
     "metadata": {},
     "output_type": "execute_result"
    }
   ],
   "source": [
    "ratio_c=264/(264+322)\n",
    "ratio_c"
   ]
  },
  {
   "cell_type": "markdown",
   "id": "b410fac1",
   "metadata": {},
   "source": [
    "<strong>Postive Response Rate in exposed group:</strong>"
   ]
  },
  {
   "cell_type": "code",
   "execution_count": 23,
   "id": "575b0ef9",
   "metadata": {},
   "outputs": [
    {
     "data": {
      "text/plain": [
       "0.0769"
      ]
     },
     "execution_count": 23,
     "metadata": {},
     "output_type": "execute_result"
    }
   ],
   "source": [
    "prre=round(308/4006,4)\n",
    "prre"
   ]
  },
  {
   "cell_type": "markdown",
   "id": "46966068",
   "metadata": {},
   "source": [
    "<strong>Response Rate in exposed group:</strong>"
   ]
  },
  {
   "cell_type": "code",
   "execution_count": 24,
   "id": "ce8ef7ab",
   "metadata": {},
   "outputs": [
    {
     "data": {
      "text/plain": [
       "0.164"
      ]
     },
     "execution_count": 24,
     "metadata": {},
     "output_type": "execute_result"
    }
   ],
   "source": [
    "rre=round((308+349)/4006,4)\n",
    "rre"
   ]
  },
  {
   "cell_type": "markdown",
   "id": "95e9d809",
   "metadata": {},
   "source": [
    "<strong>Positive Response Ratio in exposed group: </strong>"
   ]
  },
  {
   "cell_type": "code",
   "execution_count": 25,
   "id": "88975038",
   "metadata": {},
   "outputs": [
    {
     "data": {
      "text/plain": [
       "0.4687975646879756"
      ]
     },
     "execution_count": 25,
     "metadata": {},
     "output_type": "execute_result"
    }
   ],
   "source": [
    "ratio_e=308/(308+349)\n",
    "ratio_e"
   ]
  },
  {
   "cell_type": "markdown",
   "id": "949a26ba",
   "metadata": {},
   "source": [
    "## Calculated statistical significance"
   ]
  },
  {
   "cell_type": "markdown",
   "id": "5c35065a",
   "metadata": {},
   "source": [
    "Define a function to calculate the SE and P-value."
   ]
  },
  {
   "cell_type": "code",
   "execution_count": 26,
   "id": "03c46244",
   "metadata": {},
   "outputs": [],
   "source": [
    "import math"
   ]
  },
  {
   "cell_type": "code",
   "execution_count": 27,
   "id": "26aab6fd",
   "metadata": {},
   "outputs": [],
   "source": [
    "def SE(Xcont,Xexp,Ncont,Ntest):\n",
    "    pool=(Xcont+Xexp)/(Ncont+Ntest)\n",
    "    SE=(pool*(1-pool)*(1/Ncont+1/Ntest))**(1/2)\n",
    "    return SE"
   ]
  },
  {
   "cell_type": "code",
   "execution_count": 28,
   "id": "b3bba5b0",
   "metadata": {},
   "outputs": [],
   "source": [
    "def p_value(z):\n",
    "    p=math.exp(-0.717*z-0.416*z**2)\n",
    "    return p"
   ]
  },
  {
   "cell_type": "markdown",
   "id": "56e34ad6",
   "metadata": {},
   "source": [
    "### <strong>For Response Rate metric</strong>"
   ]
  },
  {
   "cell_type": "code",
   "execution_count": 29,
   "id": "b3c9160e",
   "metadata": {},
   "outputs": [],
   "source": [
    "Xcont=264+322\n",
    "Xexp=308+349\n",
    "Ncont=4071\n",
    "Ntest=4006"
   ]
  },
  {
   "cell_type": "code",
   "execution_count": 30,
   "id": "f5ead683",
   "metadata": {},
   "outputs": [
    {
     "name": "stdout",
     "output_type": "stream",
     "text": [
      "0.020100000000000007 0.008030488905621176\n"
     ]
    }
   ],
   "source": [
    "drr=rre-rrc\n",
    "drr_SE=SE(Xcont,Xexp,Ncont,Ntest)\n",
    "print(drr,drr_SE)"
   ]
  },
  {
   "cell_type": "code",
   "execution_count": 31,
   "id": "2f50c11c",
   "metadata": {},
   "outputs": [
    {
     "data": {
      "text/plain": [
       "0.012267701367161116"
      ]
     },
     "execution_count": 31,
     "metadata": {},
     "output_type": "execute_result"
    }
   ],
   "source": [
    "z=drr/drr_SE\n",
    "p_value(z)"
   ]
  },
  {
   "cell_type": "markdown",
   "id": "eff2cbdf",
   "metadata": {},
   "source": [
    "As we see above, p_value for response rate is around 0.0123, which is smaller than 0.05. Therefore, we have 95% confidence to say that the difference is statistically significant."
   ]
  },
  {
   "cell_type": "markdown",
   "id": "8ca4fedc",
   "metadata": {},
   "source": [
    "### <strong>For Positive Response Rate metric</strong>"
   ]
  },
  {
   "cell_type": "code",
   "execution_count": 32,
   "id": "137ce035",
   "metadata": {},
   "outputs": [
    {
     "name": "stdout",
     "output_type": "stream",
     "text": [
      "0.0121 0.005708766732960065\n"
     ]
    }
   ],
   "source": [
    "Xcont=264\n",
    "Xexp=308\n",
    "dprr=prre-prrc\n",
    "dprr_SE=SE(Xcont,Xexp,Ncont,Ntest)\n",
    "print(dprr,dprr_SE)"
   ]
  },
  {
   "cell_type": "code",
   "execution_count": 33,
   "id": "a0f54f4e",
   "metadata": {},
   "outputs": [
    {
     "data": {
      "text/plain": [
       "0.033756343477317347"
      ]
     },
     "execution_count": 33,
     "metadata": {},
     "output_type": "execute_result"
    }
   ],
   "source": [
    "z=dprr/dprr_SE\n",
    "p_value(z)"
   ]
  },
  {
   "cell_type": "markdown",
   "id": "609683c4",
   "metadata": {},
   "source": [
    "The p_value for postive response rate is around 0.034, which is smaller than 0.05. Therefore, we can reject the null hypothesis. "
   ]
  },
  {
   "cell_type": "markdown",
   "id": "67d3c494",
   "metadata": {},
   "source": [
    "### For Positive Response Ratio"
   ]
  },
  {
   "cell_type": "code",
   "execution_count": 34,
   "id": "ccb45c82",
   "metadata": {},
   "outputs": [
    {
     "name": "stdout",
     "output_type": "stream",
     "text": [
      "0.0121 0.005708766732960065\n"
     ]
    }
   ],
   "source": [
    "Xcont=264\n",
    "Xexp=308\n",
    "Ncont=264+322\n",
    "Ntest=308+349\n",
    "d=ratio_e-ratio_c\n",
    "SE=SE(Xcont,Xexp,Ncont,Ntest)\n",
    "print(dprr,dprr_SE)"
   ]
  },
  {
   "cell_type": "code",
   "execution_count": 35,
   "id": "6191e692",
   "metadata": {},
   "outputs": [
    {
     "data": {
      "text/plain": [
       "0.5292024088680277"
      ]
     },
     "execution_count": 35,
     "metadata": {},
     "output_type": "execute_result"
    }
   ],
   "source": [
    "z=d/SE\n",
    "p_value(z)"
   ]
  },
  {
   "cell_type": "markdown",
   "id": "99a01360",
   "metadata": {},
   "source": [
    "The p_value is greater than 0.05, which means that we can not reject the null hypothesis. Therefore, there is no significant difference in positive response ratio."
   ]
  },
  {
   "cell_type": "markdown",
   "id": "2e9a22d9",
   "metadata": {},
   "source": [
    "## Conclusion"
   ]
  },
  {
   "cell_type": "markdown",
   "id": "511de8fc",
   "metadata": {},
   "source": [
    "The difference in response rate and the positive response rate are both statistical significant.However, the difference in Positive Response Ratio is not statistical significant."
   ]
  }
 ],
 "metadata": {
  "kernelspec": {
   "display_name": "Python 3 (ipykernel)",
   "language": "python",
   "name": "python3"
  },
  "language_info": {
   "codemirror_mode": {
    "name": "ipython",
    "version": 3
   },
   "file_extension": ".py",
   "mimetype": "text/x-python",
   "name": "python",
   "nbconvert_exporter": "python",
   "pygments_lexer": "ipython3",
   "version": "3.9.7"
  }
 },
 "nbformat": 4,
 "nbformat_minor": 5
}
